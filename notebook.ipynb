{
 "cells": [
  {
   "cell_type": "code",
   "execution_count": 1,
   "metadata": {
    "colab": {},
    "colab_type": "code",
    "id": "pbR7w_sws0s5"
   },
   "outputs": [],
   "source": [
    "from __future__ import absolute_import\n",
    "from __future__ import division\n",
    "from __future__ import print_function"
   ]
  },
  {
   "cell_type": "code",
   "execution_count": 2,
   "metadata": {
    "colab": {},
    "colab_type": "code",
    "id": "6iOgAmGJs_lS"
   },
   "outputs": [],
   "source": [
    "!pip install -q -U tensorflow"
   ]
  },
  {
   "cell_type": "code",
   "execution_count": 3,
   "metadata": {
    "colab": {},
    "colab_type": "code",
    "id": "MopdvKpKtHui"
   },
   "outputs": [],
   "source": [
    "import itertools\n",
    "import os\n",
    "import math\n",
    "import numpy as np\n",
    "import pandas as pd\n",
    "import tensorflow as tf\n",
    "from sklearn.preprocessing import LabelEncoder\n",
    "from tensorflow import keras\n",
    "layers = keras.layers\n"
   ]
  },
  {
   "cell_type": "code",
   "execution_count": null,
   "metadata": {},
   "outputs": [],
   "source": [
    "!wget https://storage.googleapis.com/sara-cloud-ml/wine_data.csv"
   ]
  },
  {
   "cell_type": "code",
   "execution_count": 4,
   "metadata": {
    "colab": {},
    "colab_type": "code",
    "id": "3e6WKGDHt_7O"
   },
   "outputs": [],
   "source": [
    "path = \"wine_data.csv\""
   ]
  },
  {
   "cell_type": "code",
   "execution_count": 5,
   "metadata": {
    "colab": {
     "base_uri": "https://localhost:8080/",
     "height": 306
    },
    "colab_type": "code",
    "id": "Ip5LPilmuUup",
    "outputId": "054c9d54-3046-4078-ec25-9d649f62c94b"
   },
   "outputs": [
    {
     "data": {
      "text/html": [
       "<div>\n",
       "<style scoped>\n",
       "    .dataframe tbody tr th:only-of-type {\n",
       "        vertical-align: middle;\n",
       "    }\n",
       "\n",
       "    .dataframe tbody tr th {\n",
       "        vertical-align: top;\n",
       "    }\n",
       "\n",
       "    .dataframe thead th {\n",
       "        text-align: right;\n",
       "    }\n",
       "</style>\n",
       "<table border=\"1\" class=\"dataframe\">\n",
       "  <thead>\n",
       "    <tr style=\"text-align: right;\">\n",
       "      <th></th>\n",
       "      <th>Unnamed: 0</th>\n",
       "      <th>country</th>\n",
       "      <th>description</th>\n",
       "      <th>designation</th>\n",
       "      <th>points</th>\n",
       "      <th>price</th>\n",
       "      <th>province</th>\n",
       "      <th>region_1</th>\n",
       "      <th>region_2</th>\n",
       "      <th>variety</th>\n",
       "      <th>winery</th>\n",
       "    </tr>\n",
       "  </thead>\n",
       "  <tbody>\n",
       "    <tr>\n",
       "      <th>13618</th>\n",
       "      <td>13618</td>\n",
       "      <td>Italy</td>\n",
       "      <td>Bright and refined, this conveys aromas of dar...</td>\n",
       "      <td>NaN</td>\n",
       "      <td>91</td>\n",
       "      <td>26.0</td>\n",
       "      <td>Tuscany</td>\n",
       "      <td>Vino Nobile di Montepulciano</td>\n",
       "      <td>NaN</td>\n",
       "      <td>Red Blend</td>\n",
       "      <td>Bindella</td>\n",
       "    </tr>\n",
       "    <tr>\n",
       "      <th>93481</th>\n",
       "      <td>93481</td>\n",
       "      <td>US</td>\n",
       "      <td>Oaky-sweet and simple, with jammy pineapple, t...</td>\n",
       "      <td>Appellation Series</td>\n",
       "      <td>84</td>\n",
       "      <td>15.0</td>\n",
       "      <td>California</td>\n",
       "      <td>Russian River Valley</td>\n",
       "      <td>Sonoma</td>\n",
       "      <td>Chardonnay</td>\n",
       "      <td>Healdsburg Ranches</td>\n",
       "    </tr>\n",
       "    <tr>\n",
       "      <th>143346</th>\n",
       "      <td>143346</td>\n",
       "      <td>South Africa</td>\n",
       "      <td>Clean, fresh flavors, good body and a balance ...</td>\n",
       "      <td>NaN</td>\n",
       "      <td>87</td>\n",
       "      <td>11.0</td>\n",
       "      <td>Western Cape</td>\n",
       "      <td>NaN</td>\n",
       "      <td>NaN</td>\n",
       "      <td>Sauvignon Blanc</td>\n",
       "      <td>Douglas Green</td>\n",
       "    </tr>\n",
       "    <tr>\n",
       "      <th>28167</th>\n",
       "      <td>28167</td>\n",
       "      <td>France</td>\n",
       "      <td>This is a ripe, fresh and fruity wine that's f...</td>\n",
       "      <td>NaN</td>\n",
       "      <td>89</td>\n",
       "      <td>21.0</td>\n",
       "      <td>Loire Valley</td>\n",
       "      <td>Sancerre</td>\n",
       "      <td>NaN</td>\n",
       "      <td>Sauvignon Blanc</td>\n",
       "      <td>Domaine de Rome</td>\n",
       "    </tr>\n",
       "    <tr>\n",
       "      <th>52757</th>\n",
       "      <td>52757</td>\n",
       "      <td>US</td>\n",
       "      <td>This full-bodied Chardonnay begins with aromas...</td>\n",
       "      <td>Golden Glen</td>\n",
       "      <td>85</td>\n",
       "      <td>20.0</td>\n",
       "      <td>New York</td>\n",
       "      <td>Finger Lakes</td>\n",
       "      <td>Finger Lakes</td>\n",
       "      <td>Chardonnay</td>\n",
       "      <td>Glenora</td>\n",
       "    </tr>\n",
       "  </tbody>\n",
       "</table>\n",
       "</div>"
      ],
      "text/plain": [
       "        Unnamed: 0       country  \\\n",
       "13618        13618         Italy   \n",
       "93481        93481            US   \n",
       "143346      143346  South Africa   \n",
       "28167        28167        France   \n",
       "52757        52757            US   \n",
       "\n",
       "                                              description         designation  \\\n",
       "13618   Bright and refined, this conveys aromas of dar...                 NaN   \n",
       "93481   Oaky-sweet and simple, with jammy pineapple, t...  Appellation Series   \n",
       "143346  Clean, fresh flavors, good body and a balance ...                 NaN   \n",
       "28167   This is a ripe, fresh and fruity wine that's f...                 NaN   \n",
       "52757   This full-bodied Chardonnay begins with aromas...         Golden Glen   \n",
       "\n",
       "        points  price      province                      region_1  \\\n",
       "13618       91   26.0       Tuscany  Vino Nobile di Montepulciano   \n",
       "93481       84   15.0    California          Russian River Valley   \n",
       "143346      87   11.0  Western Cape                           NaN   \n",
       "28167       89   21.0  Loire Valley                      Sancerre   \n",
       "52757       85   20.0      New York                  Finger Lakes   \n",
       "\n",
       "            region_2          variety              winery  \n",
       "13618            NaN        Red Blend            Bindella  \n",
       "93481         Sonoma       Chardonnay  Healdsburg Ranches  \n",
       "143346           NaN  Sauvignon Blanc       Douglas Green  \n",
       "28167            NaN  Sauvignon Blanc     Domaine de Rome  \n",
       "52757   Finger Lakes       Chardonnay             Glenora  "
      ]
     },
     "execution_count": 5,
     "metadata": {},
     "output_type": "execute_result"
    }
   ],
   "source": [
    "data = pd.read_csv(path)\n",
    "data = data.sample(frac=1)\n",
    "data.head()"
   ]
  },
  {
   "cell_type": "code",
   "execution_count": 6,
   "metadata": {
    "colab": {},
    "colab_type": "code",
    "id": "jRCtpWRoux46"
   },
   "outputs": [],
   "source": [
    "data = data[pd.notnull(data['country'])]\n",
    "data = data[pd.notnull(data['price'])]\n",
    "data = data.drop(data.columns[0], axis=1)\n",
    "variety_threshold = 500\n",
    "value_counts = data['variety'].value_counts()\n",
    "to_remove = value_counts[value_counts <= variety_threshold].index\n",
    "data.replace(to_remove , np.nan, inplace=True)\n",
    "data = data[pd.notnull(data['variety'])]"
   ]
  },
  {
   "cell_type": "code",
   "execution_count": 7,
   "metadata": {
    "colab": {
     "base_uri": "https://localhost:8080/",
     "height": 53
    },
    "colab_type": "code",
    "id": "vLiRIuhkvcfw",
    "outputId": "5ad32d1e-6638-45ae-8c73-dee9214b73af"
   },
   "outputs": [
    {
     "name": "stdout",
     "output_type": "stream",
     "text": [
      "Train size: 95646\n",
      "Test size: 23912\n"
     ]
    }
   ],
   "source": [
    "train_size= int(len(data) * .8)\n",
    "print(\"Train size: %d\" % train_size)\n",
    "print(\"Test size: %d\" % (len(data) - train_size))"
   ]
  },
  {
   "cell_type": "code",
   "execution_count": 8,
   "metadata": {
    "colab": {},
    "colab_type": "code",
    "id": "MeO0NDN3wnun"
   },
   "outputs": [],
   "source": [
    "# Train inputs\n",
    "description_train = data['description'][:train_size]\n",
    "variety_train = data['variety'][:train_size]\n",
    "\n",
    "# Train labels\n",
    "labels_train = data['price'][:train_size]\n",
    "\n",
    "# Test inputs\n",
    "description_test = data['description'][train_size:]\n",
    "variety_test = data['variety'][train_size:]\n",
    "\n",
    "# Test labels\n",
    "labels_test = data['price'][train_size:]"
   ]
  },
  {
   "cell_type": "code",
   "execution_count": 9,
   "metadata": {
    "colab": {},
    "colab_type": "code",
    "id": "_OGtIsjpxXuR"
   },
   "outputs": [],
   "source": [
    "# Create a tokenizer\n",
    "vocab_size = 5000\n",
    "tokenize = keras.preprocessing.text.Tokenizer(num_words=vocab_size, char_level=False)\n",
    "tokenize.fit_on_texts(description_train)"
   ]
  },
  {
   "cell_type": "code",
   "execution_count": 10,
   "metadata": {
    "colab": {},
    "colab_type": "code",
    "id": "xRKZ-N0dyxr-"
   },
   "outputs": [],
   "source": [
    "description_bow_train = tokenize.texts_to_matrix(description_train)\n",
    "description_bow_test = tokenize.texts_to_matrix(description_test)"
   ]
  },
  {
   "cell_type": "code",
   "execution_count": 11,
   "metadata": {
    "colab": {},
    "colab_type": "code",
    "id": "X4yP86yP2w8s"
   },
   "outputs": [],
   "source": [
    "encoder = LabelEncoder()\n",
    "encoder.fit(variety_train)\n",
    "variety_train = encoder.transform(variety_train)\n",
    "variety_test = encoder.transform(variety_test)\n",
    "num_classes = np.max(variety_train) + 1\n",
    "\n",
    "#To one-hot\n",
    "variety_train = keras.utils.to_categorical(variety_train, num_classes)\n",
    "variety_test = keras.utils.to_categorical(variety_test, num_classes)"
   ]
  },
  {
   "cell_type": "code",
   "execution_count": 12,
   "metadata": {
    "colab": {},
    "colab_type": "code",
    "id": "sT2EgtKD3hGN"
   },
   "outputs": [],
   "source": [
    "bow_inputs = layers.Input(shape=(vocab_size,))\n",
    "variety_inputs = layers.Input(shape=(num_classes,))\n",
    "merged_layer= layers.concatenate([bow_inputs, variety_inputs])\n",
    "merget_layer = layers.Dense(256, activation=\"relu\")(merged_layer)\n",
    "predictions = layers.Dense(1)(merged_layer)\n",
    "wide_model = keras.Model(inputs=[bow_inputs, variety_inputs], outputs=predictions)"
   ]
  },
  {
   "cell_type": "code",
   "execution_count": 13,
   "metadata": {
    "colab": {
     "base_uri": "https://localhost:8080/",
     "height": 341
    },
    "colab_type": "code",
    "id": "Cp1__pPv4xvN",
    "outputId": "4a02233a-37f5-464b-d10f-358079e38d55"
   },
   "outputs": [
    {
     "name": "stdout",
     "output_type": "stream",
     "text": [
      "Model: \"model\"\n",
      "__________________________________________________________________________________________________\n",
      "Layer (type)                    Output Shape         Param #     Connected to                     \n",
      "==================================================================================================\n",
      "input_1 (InputLayer)            [(None, 5000)]       0                                            \n",
      "__________________________________________________________________________________________________\n",
      "input_2 (InputLayer)            [(None, 40)]         0                                            \n",
      "__________________________________________________________________________________________________\n",
      "concatenate (Concatenate)       (None, 5040)         0           input_1[0][0]                    \n",
      "                                                                 input_2[0][0]                    \n",
      "__________________________________________________________________________________________________\n",
      "dense_1 (Dense)                 (None, 1)            5041        concatenate[0][0]                \n",
      "==================================================================================================\n",
      "Total params: 5,041\n",
      "Trainable params: 5,041\n",
      "Non-trainable params: 0\n",
      "__________________________________________________________________________________________________\n",
      "None\n"
     ]
    }
   ],
   "source": [
    "wide_model.compile(loss=\"mse\", optimizer='adam', metrics=['accuracy'])\n",
    "print(wide_model.summary())"
   ]
  },
  {
   "cell_type": "code",
   "execution_count": 14,
   "metadata": {
    "colab": {},
    "colab_type": "code",
    "id": "2N-hzkWQ7Vvk"
   },
   "outputs": [],
   "source": [
    "train_embed = tokenize.texts_to_sequences(description_train)\n",
    "test_embed = tokenize.texts_to_sequences(description_test)\n",
    "\n",
    "max_seq_length = 170\n",
    "train_embed = keras.preprocessing.sequence.pad_sequences(train_embed, maxlen=max_seq_length, padding = \"post\")\n",
    "test_embed = keras.preprocessing.sequence.pad_sequences(test_embed, maxlen=max_seq_length, padding = \"post\")"
   ]
  },
  {
   "cell_type": "code",
   "execution_count": 15,
   "metadata": {
    "colab": {
     "base_uri": "https://localhost:8080/",
     "height": 323
    },
    "colab_type": "code",
    "id": "xjNoB5mU8DZf",
    "outputId": "6c19ce5b-6afe-4e5f-dae5-6ffb587bc168"
   },
   "outputs": [
    {
     "name": "stdout",
     "output_type": "stream",
     "text": [
      "Model: \"model_1\"\n",
      "_________________________________________________________________\n",
      "Layer (type)                 Output Shape              Param #   \n",
      "=================================================================\n",
      "input_3 (InputLayer)         [(None, 170)]             0         \n",
      "_________________________________________________________________\n",
      "embedding (Embedding)        (None, 170, 8)            40000     \n",
      "_________________________________________________________________\n",
      "flatten (Flatten)            (None, 1360)              0         \n",
      "_________________________________________________________________\n",
      "dense_2 (Dense)              (None, 1)                 1361      \n",
      "=================================================================\n",
      "Total params: 41,361\n",
      "Trainable params: 41,361\n",
      "Non-trainable params: 0\n",
      "_________________________________________________________________\n",
      "None\n"
     ]
    }
   ],
   "source": [
    "deep_inputs = layers.Input(shape=(max_seq_length,))\n",
    "embedding = layers.Embedding(vocab_size, 8, input_length=max_seq_length)(deep_inputs)\n",
    "embedding = layers.Flatten()(embedding)\n",
    "embed_out = layers.Dense(1)(embedding)\n",
    "deep_model = keras.Model(inputs=deep_inputs, outputs=embed_out)\n",
    "print(deep_model.summary())\n"
   ]
  },
  {
   "cell_type": "code",
   "execution_count": 16,
   "metadata": {
    "colab": {},
    "colab_type": "code",
    "id": "diNIUb_D-xz6"
   },
   "outputs": [],
   "source": [
    "deep_model.compile(loss='mse', optimizer='adam', metrics=['accuracy'])"
   ]
  },
  {
   "cell_type": "code",
   "execution_count": 17,
   "metadata": {
    "colab": {
     "base_uri": "https://localhost:8080/",
     "height": 575
    },
    "colab_type": "code",
    "id": "_sKiBBPLVvqB",
    "outputId": "86f11c2f-3aa5-4144-ea68-e5174ba6d485"
   },
   "outputs": [
    {
     "name": "stdout",
     "output_type": "stream",
     "text": [
      "Model: \"model_2\"\n",
      "__________________________________________________________________________________________________\n",
      "Layer (type)                    Output Shape         Param #     Connected to                     \n",
      "==================================================================================================\n",
      "input_3 (InputLayer)            [(None, 170)]        0                                            \n",
      "__________________________________________________________________________________________________\n",
      "input_1 (InputLayer)            [(None, 5000)]       0                                            \n",
      "__________________________________________________________________________________________________\n",
      "input_2 (InputLayer)            [(None, 40)]         0                                            \n",
      "__________________________________________________________________________________________________\n",
      "embedding (Embedding)           (None, 170, 8)       40000       input_3[0][0]                    \n",
      "__________________________________________________________________________________________________\n",
      "concatenate (Concatenate)       (None, 5040)         0           input_1[0][0]                    \n",
      "                                                                 input_2[0][0]                    \n",
      "__________________________________________________________________________________________________\n",
      "flatten (Flatten)               (None, 1360)         0           embedding[0][0]                  \n",
      "__________________________________________________________________________________________________\n",
      "dense_1 (Dense)                 (None, 1)            5041        concatenate[0][0]                \n",
      "__________________________________________________________________________________________________\n",
      "dense_2 (Dense)                 (None, 1)            1361        flatten[0][0]                    \n",
      "__________________________________________________________________________________________________\n",
      "concatenate_1 (Concatenate)     (None, 2)            0           dense_1[0][0]                    \n",
      "                                                                 dense_2[0][0]                    \n",
      "__________________________________________________________________________________________________\n",
      "dense_3 (Dense)                 (None, 1)            3           concatenate_1[0][0]              \n",
      "==================================================================================================\n",
      "Total params: 46,405\n",
      "Trainable params: 46,405\n",
      "Non-trainable params: 0\n",
      "__________________________________________________________________________________________________\n",
      "None\n"
     ]
    }
   ],
   "source": [
    "merged_out = layers.concatenate([wide_model.output, deep_model.output])\n",
    "merged_out = layers.Dense(1)(merged_out)\n",
    "combined_model = keras.Model(wide_model.input + [deep_model.input], merged_out)\n",
    "print(combined_model.summary())"
   ]
  },
  {
   "cell_type": "code",
   "execution_count": 18,
   "metadata": {
    "colab": {},
    "colab_type": "code",
    "id": "n9OpUBPfWLJP"
   },
   "outputs": [],
   "source": [
    "combined_model.compile(loss='mse', optimizer='adam', metrics=['accuracy'])"
   ]
  },
  {
   "cell_type": "code",
   "execution_count": 22,
   "metadata": {
    "colab": {},
    "colab_type": "code",
    "id": "110H9nvDWacG"
   },
   "outputs": [
    {
     "name": "stdout",
     "output_type": "stream",
     "text": [
      "Epoch 1/50\n",
      "748/748 [==============================] - 4s 5ms/step - loss: 941.3827 - accuracy: 0.0000e+00\n",
      "Epoch 2/50\n",
      "748/748 [==============================] - 3s 4ms/step - loss: 930.1476 - accuracy: 0.0000e+00\n",
      "Epoch 3/50\n",
      "748/748 [==============================] - 3s 4ms/step - loss: 918.2635 - accuracy: 0.0000e+00\n",
      "Epoch 4/50\n",
      "748/748 [==============================] - 3s 4ms/step - loss: 905.2264 - accuracy: 0.0000e+00\n",
      "Epoch 5/50\n",
      "748/748 [==============================] - 3s 4ms/step - loss: 889.9504 - accuracy: 0.0000e+00\n",
      "Epoch 6/50\n",
      "748/748 [==============================] - 3s 4ms/step - loss: 873.7689 - accuracy: 0.0000e+00\n",
      "Epoch 7/50\n",
      "748/748 [==============================] - 3s 4ms/step - loss: 854.2842 - accuracy: 0.0000e+00\n",
      "Epoch 8/50\n",
      "748/748 [==============================] - 3s 4ms/step - loss: 833.3561 - accuracy: 0.0000e+00\n",
      "Epoch 9/50\n",
      "748/748 [==============================] - 3s 4ms/step - loss: 811.6473 - accuracy: 0.0000e+00\n",
      "Epoch 10/50\n",
      "748/748 [==============================] - 3s 4ms/step - loss: 789.2904 - accuracy: 0.0000e+00\n",
      "Epoch 11/50\n",
      "748/748 [==============================] - 3s 4ms/step - loss: 766.7440 - accuracy: 0.0000e+00\n",
      "Epoch 12/50\n",
      "748/748 [==============================] - 3s 4ms/step - loss: 745.5654 - accuracy: 0.0000e+00\n",
      "Epoch 13/50\n",
      "748/748 [==============================] - 3s 4ms/step - loss: 724.9681 - accuracy: 0.0000e+00\n",
      "Epoch 14/50\n",
      "748/748 [==============================] - 3s 4ms/step - loss: 705.7652 - accuracy: 0.0000e+00\n",
      "Epoch 15/50\n",
      "748/748 [==============================] - 3s 4ms/step - loss: 687.3585 - accuracy: 0.0000e+00\n",
      "Epoch 16/50\n",
      "748/748 [==============================] - 3s 4ms/step - loss: 671.9308 - accuracy: 0.0000e+00\n",
      "Epoch 17/50\n",
      "748/748 [==============================] - 3s 4ms/step - loss: 654.9420 - accuracy: 0.0000e+00\n",
      "Epoch 18/50\n",
      "748/748 [==============================] - 3s 4ms/step - loss: 640.7798 - accuracy: 0.0000e+00\n",
      "Epoch 19/50\n",
      "748/748 [==============================] - 3s 4ms/step - loss: 627.2385 - accuracy: 0.0000e+00\n",
      "Epoch 20/50\n",
      "748/748 [==============================] - 3s 4ms/step - loss: 614.8297 - accuracy: 0.0000e+00\n",
      "Epoch 21/50\n",
      "748/748 [==============================] - 3s 4ms/step - loss: 602.9612 - accuracy: 0.0000e+00\n",
      "Epoch 22/50\n",
      "748/748 [==============================] - 3s 4ms/step - loss: 591.8800 - accuracy: 0.0000e+00\n",
      "Epoch 23/50\n",
      "748/748 [==============================] - 3s 4ms/step - loss: 581.5754 - accuracy: 0.0000e+00\n",
      "Epoch 24/50\n",
      "748/748 [==============================] - 3s 4ms/step - loss: 571.9762 - accuracy: 0.0000e+00\n",
      "Epoch 25/50\n",
      "748/748 [==============================] - 3s 4ms/step - loss: 562.5278 - accuracy: 0.0000e+00\n",
      "Epoch 26/50\n",
      "748/748 [==============================] - 3s 4ms/step - loss: 553.9205 - accuracy: 0.0000e+00\n",
      "Epoch 27/50\n",
      "748/748 [==============================] - 3s 4ms/step - loss: 545.8486 - accuracy: 0.0000e+00\n",
      "Epoch 28/50\n",
      "748/748 [==============================] - 3s 4ms/step - loss: 538.1983 - accuracy: 0.0000e+00\n",
      "Epoch 29/50\n",
      "748/748 [==============================] - 3s 4ms/step - loss: 530.8666 - accuracy: 0.0000e+00\n",
      "Epoch 30/50\n",
      "748/748 [==============================] - 3s 4ms/step - loss: 523.5403 - accuracy: 0.0000e+00\n",
      "Epoch 31/50\n",
      "748/748 [==============================] - 3s 4ms/step - loss: 516.7404 - accuracy: 0.0000e+00\n",
      "Epoch 32/50\n",
      "748/748 [==============================] - 3s 4ms/step - loss: 510.3697 - accuracy: 0.0000e+00\n",
      "Epoch 33/50\n",
      "748/748 [==============================] - 3s 4ms/step - loss: 504.5469 - accuracy: 0.0000e+00\n",
      "Epoch 34/50\n",
      "748/748 [==============================] - 3s 4ms/step - loss: 498.6843 - accuracy: 0.0000e+00\n",
      "Epoch 35/50\n",
      "748/748 [==============================] - 3s 4ms/step - loss: 493.1948 - accuracy: 0.0000e+00\n",
      "Epoch 36/50\n",
      "748/748 [==============================] - 3s 4ms/step - loss: 488.0857 - accuracy: 0.0000e+00\n",
      "Epoch 37/50\n",
      "748/748 [==============================] - 3s 4ms/step - loss: 482.2809 - accuracy: 0.0000e+00\n",
      "Epoch 38/50\n",
      "748/748 [==============================] - 3s 4ms/step - loss: 477.8959 - accuracy: 0.0000e+00\n",
      "Epoch 39/50\n",
      "748/748 [==============================] - 3s 4ms/step - loss: 473.2823 - accuracy: 0.0000e+00\n",
      "Epoch 40/50\n",
      "748/748 [==============================] - 3s 4ms/step - loss: 468.5371 - accuracy: 0.0000e+00\n",
      "Epoch 41/50\n",
      "748/748 [==============================] - 3s 4ms/step - loss: 464.2664 - accuracy: 0.0000e+00\n",
      "Epoch 42/50\n",
      "748/748 [==============================] - 3s 4ms/step - loss: 460.0229 - accuracy: 0.0000e+00\n",
      "Epoch 43/50\n",
      "748/748 [==============================] - 3s 4ms/step - loss: 455.9980 - accuracy: 0.0000e+00\n",
      "Epoch 44/50\n",
      "748/748 [==============================] - 3s 4ms/step - loss: 452.2878 - accuracy: 0.0000e+00\n",
      "Epoch 45/50\n",
      "748/748 [==============================] - 3s 4ms/step - loss: 448.5306 - accuracy: 0.0000e+00\n",
      "Epoch 46/50\n",
      "748/748 [==============================] - 3s 4ms/step - loss: 444.7486 - accuracy: 0.0000e+00\n",
      "Epoch 47/50\n",
      "748/748 [==============================] - 3s 4ms/step - loss: 441.3842 - accuracy: 0.0000e+00\n",
      "Epoch 48/50\n",
      "748/748 [==============================] - 3s 4ms/step - loss: 437.7628 - accuracy: 0.0000e+00\n",
      "Epoch 49/50\n",
      "748/748 [==============================] - 3s 4ms/step - loss: 434.3597 - accuracy: 0.0000e+00\n",
      "Epoch 50/50\n",
      "748/748 [==============================] - 3s 4ms/step - loss: 431.1888 - accuracy: 0.0000e+00\n",
      "187/187 [==============================] - 1s 3ms/step - loss: 996.4149 - accuracy: 0.0000e+00\n"
     ]
    },
    {
     "data": {
      "text/plain": [
       "[996.4148559570312, 0.0]"
      ]
     },
     "execution_count": 22,
     "metadata": {},
     "output_type": "execute_result"
    }
   ],
   "source": [
    "combined_model.fit([description_bow_train, variety_train] + [ train_embed ], labels_train, epochs=50, batch_size=128)\n",
    "combined_model.evaluate([description_bow_test, variety_test] + [ test_embed ], labels_test, batch_size=128)"
   ]
  },
  {
   "cell_type": "code",
   "execution_count": 23,
   "metadata": {
    "colab": {},
    "colab_type": "code",
    "id": "uSOtW31NW1JH"
   },
   "outputs": [],
   "source": [
    "predictions = combined_model.predict([ description_bow_test, variety_test] + [ test_embed])"
   ]
  },
  {
   "cell_type": "code",
   "execution_count": 24,
   "metadata": {
    "colab": {},
    "colab_type": "code",
    "id": "sEAan1o5W-g8"
   },
   "outputs": [
    {
     "name": "stdout",
     "output_type": "stream",
     "text": [
      "Here's another exceptional Oregon Riesling to add to the growing ranks of top producers. Lemon-drop fruit meets peaches and cream in the mouth, as this off-dry (20g/L) wine displays a spot-on balance between acid, sugar, fruit and honey. This is delicious already, and built to age nicely over a decade or longer.\n",
      "Predicted:  106.493416 Actual:  18.0 \n",
      "\n",
      "Made to fit a standard mold, but made well. Aromas are of plum and cinnamon, with similar notes on the palate. Slender in body, with smooth tannins and a nut-laden finish. Imported by Southern Starz, Inc.\n",
      "Predicted:  32.487404 Actual:  23.0 \n",
      "\n",
      "Young and tart in cool-climate acidity, this Pinot needs time in the cellar. It's an exotic wine, spicy and peppery, almost briary, like a Zinfandel, except with flavors of wild forest raspberries, cherries, orange zest and a hint of pine cone. It's as cellarable a Pinot Noir as exists in California. Best after 2015.\n",
      "Predicted:  26.840513 Actual:  60.0 \n",
      "\n",
      "Compact aromas of red berries get a boost from oak-based coconut, cedar and graphite notes. This is a blend of three Malbec vineyards of varying elevations; it's bursting with acidity, while high-toned plum and currant flavors are a touch salty. A lively, fiery finish is fueled by latent acidity. Drink through 2020.\n",
      "Predicted:  44.705788 Actual:  30.0 \n",
      "\n",
      "This powerful Pinot, from one of the three distinct blocks within Black Kite's estate vineyard, offers earthy plum compote and blueberry with a lingering background note of vanilla. Bright, grippy and layered, the finish offers toasty oak.\n",
      "Predicted:  47.285618 Actual:  55.0 \n",
      "\n",
      "This 2003 Riserva emphasizes oak-related aromas of black pepper, spice and cedar thanks to 36 months of French barrique. It has an inherently nervous quality, which will no doubt unwind with a few more years of cellar aging.\n",
      "Predicted:  63.148815 Actual:  60.0 \n",
      "\n",
      "A little on the sharp, green and minty side, with tart acids framing cherry, black raspberry and smoky wood flavors. A good wine that could use more lushness and richness.\n",
      "Predicted:  79.07275 Actual:  40.0 \n",
      "\n",
      "A Lambrusco-like petillant that's neutral and dry as a bone on the nose except for a pinch of green. The palate has a fine, controlled spritz and lemon-lime flavors. Crisp, citrusy and refreshing, and fairly well executed.\n",
      "Predicted:  -15.0146055 Actual:  12.0 \n",
      "\n",
      "A soft, off-dry wine, full of lightweight currant fruits. It is gentle, in a fruity, apéritif style.\n",
      "Predicted:  13.10156 Actual:  15.0 \n",
      "\n",
      "This blend of Nero d'Avola, Cabernet Sauvignon and Merlot offers aromas of dark fruit, espresso bean, leather, tobacco and savory spice. It's a bold, structured wine, with firm tannins and a bitter chocolate aftertaste.\n",
      "Predicted:  34.19325 Actual:  40.0 \n",
      "\n",
      "A fine, food-friendly, medium-sized Chard whose nose and finish both show a fair amount of wood. Fruit in the center is not very demonstrative, some peach skin holding down the fort. Imported by Foster's Wine Estates Americas.\n",
      "Predicted:  13.055821 Actual:  14.0 \n",
      "\n",
      "Nice and rich in toasty oak, framing mouthfilling flavors of pineapples, papaya, peach and cinnamon spice. Feels creamy-smooth, with a good tang of acidity.\n",
      "Predicted:  0.86690366 Actual:  15.0 \n",
      "\n",
      "A deep and dense wine, with coconut and blackberry dominating the weighty, powerful bouquet. This is an organic wine with an explosive palate of berry fruit and plenty of juicy acidity to keep it fresh and healthy. Toast, chocolate and cola are the finishing notes, and overall it's a strapping wine to drink now thru 2013. Imported by Organic Vintners.\n",
      "Predicted:  64.09779 Actual:  60.0 \n",
      "\n",
      "Easily the best Merlot from Livermore Valley in memory, which is not a back-handed compliment. It's a bone dry, tannic wine stuffed with complex, interesting fruit, currant, herb, tobacco and cedar flavors. Really very fine, and drinkable now despite the tannins. Its longterm future is controversial, though, so open over the next 3 years.\n",
      "Predicted:  42.810608 Actual:  80.0 \n",
      "\n",
      "A pretty good wine, with a firmly tannic, clean structure. Shows jammy or pie-filling cherry, blackberry and cocoa flavors, spiced with anise and pepper.\n",
      "Predicted:  37.360027 Actual:  32.0 \n",
      "\n",
      "The 80-acre Domaine de la Moussière is Alphonse Mellot's principal vineyard in Sancerre. This entry-level cuvée from the vineyard is already sumptuous enough, with fine, concentrated grassy flavors, laced with green apples, kiwi and citrus.\n",
      "Predicted:  58.277275 Actual:  39.0 \n",
      "\n",
      "With plenty of consumer-friendly vanilla/tobacco flavors, this value Cabernet also brings in dark fruits—blackberry and cassis. The tannins have been smoothed out a bit, though they still carry a little bit of a stemmy edge. A good everyday choice for that burger.\n",
      "Predicted:  12.539212 Actual:  11.0 \n",
      "\n",
      "There is an austere initial feel to this impressive wine, driven by its firm tannins and tight texture. It is dense and concentrated while also having black currant fruits that underly this intense structure. It certainly needs aging for several years.\n",
      "Predicted:  33.024666 Actual:  30.0 \n",
      "\n",
      "There are brambly, wild berry or crabapple notes here that are reinforced by the wine's naturally high acidity. This Barbera shows a pretty ruby color with dense thickness and a smooth, berry-filled finish.\n",
      "Predicted:  10.724262 Actual:  20.0 \n",
      "\n",
      "A powerful berry-based wine with no oak is what's on offer. The nose exudes rubber and leather at first, and then comes a wave of rambunctious black fruit. The palate is bright and packed, with ripe plum and cherry flavors. Shows good mouthfeel and chewy tannins. And once again: no oak!\n",
      "Predicted:  25.749783 Actual:  10.0 \n",
      "\n",
      "Fresh and easy, this approachable Chard exhibits bright aromas of fresh red apple, light citrus and dainty yellow flowers. The palate is slightly richer and fuller-bodied, with lush flavors of wood-grilled apple skins and toasted brioche that transition into the baking-spice laden finish.\n",
      "Predicted:  79.10085 Actual:  21.0 \n",
      "\n",
      "This is a nice, easy-to-like PG. It's crisp in acidity, with forward melon, lemon and lime, and date flavors, and while it's dry, it finishes with a honeyed sweetness. Try with avocado and crab salad or a rich baked ham.\n",
      "Predicted:  57.11621 Actual:  20.0 \n",
      "\n",
      "Tight and reductive, the nose of this Bordeaux blend shows tar, rubber and smoke. The palate follows with nicely concentrated black cherry and cassis, detailed with leather and tobacco. A far better effort than the winery's pricier Two Generations, this is a cellar-worthy Bordeaux blend that is just hinting at its long-term potential.\n",
      "Predicted:  58.343666 Actual:  50.0 \n",
      "\n",
      "Ponzi's mainstream Pinot Noir really brings the fruit in 2008, a wealth of blueberry and black raspberry flavors. From aging in 30% new French oak come streaks of clove and anise, with just a hint of moist loam. Tannins are light and ripe.\n",
      "Predicted:  18.303734 Actual:  35.0 \n",
      "\n",
      "Red berry fruit, anise seed, mint tea and dried flowers are attractive components to a bouquet with a strong fruit compote or jammy quality. Flavors include dark plum, vanilla and raisin and there's a nice smoothness to the tannins. Imported by Vias Imports.\n",
      "Predicted:  55.80226 Actual:  75.0 \n",
      "\n",
      "This wine is harsh in texture, with a green stem, puckery mouthfeel that frames unripe herb and mint flavors barely suggesting cherries.\n",
      "Predicted:  13.830893 Actual:  18.0 \n",
      "\n",
      "This reserve-level wine, from the estate vineyard, is certified biodynamic. Smooth and sweetly spicy, it compounds raspberry pastry with hints of crumb cake and brown sugar. The finish seems to hit a bit of a wall, and resonates with a touch of metal.\n",
      "Predicted:  26.914127 Actual:  55.0 \n",
      "\n",
      "A clumsy wine. It's semisweet in vanilla and lemon yogurt flavors, and soft, with a funky, soiled finish.\n",
      "Predicted:  -5.989372 Actual:  30.0 \n",
      "\n",
      "A nice blush wine. Made from 100% Pinot Noir, it's dryish and crisp, with pretty flavors of cherries, raspberries and vanilla. Nice with chicken pot pie or chicken enchiladas.\n",
      "Predicted:  20.596931 Actual:  18.0 \n",
      "\n",
      "This wine overdelivers for its pale garnet color. There's loads of sweet cherry fruit along with mocha and caramel character, all set in a bed of soft tannins. A long finish trails off to an extended earth note. Try with leg of lamb. Fully mature, drink up in the next year or two.\n",
      "Predicted:  36.54485 Actual:  25.0 \n",
      "\n",
      "This herbaceous wine has a steely edge to its citrus and apple flavors. Exuberant and fragrant, this has a crisp texture that jumps out of the glass.\n",
      "Predicted:  38.50559 Actual:  14.0 \n",
      "\n",
      "Upon opening, this wine showed some funky low tones that blew off after a while to reveal an unusual mix of aromas, including cotton candy, stewed prunes and fresh nuts. The light-to-medium-bodied palate is more classic, with razor-like acidity and raspberry and cherry flavors. Delicious cherry-berry finish. Try with beef stew. Drink now.\n",
      "Predicted:  0.50154936 Actual:  18.0 \n",
      "\n",
      "This is just the second vintage for this winery, whose inviting labels look like handwritten notes. The rosé captures the bright color, fresh fruit and silky texture of its Pinot Noir grape; it's a perfect salmon or turkey wine, and one you could happily sip as an apéritif.\n",
      "Predicted:  4.611366 Actual:  24.0 \n",
      "\n",
      "A very good effort with this tricky grape. Along with the stone-fruit flavors are sweeter streaks of cotton candy and marshmallow. But the candied fruit is lively and not cloying or artificial. The finish is long and clean, with a twist of buttered nuts and creamy vanilla.\n",
      "Predicted:  7.049846 Actual:  18.0 \n",
      "\n",
      "A wonderfully aromatic wine that's bone dry, fresh and textured. A steely edge gives a mineral, tight character that emphasizes the youth of the wine. With a dominance of orange and lemon zest, plus juicy acidity, the wine does need a year or two; drink after 2016.\n",
      "Predicted:  23.66328 Actual:  22.0 \n",
      "\n",
      "If you drink this wine too cold, you'll miss the nuances behind the pineapple, orange and spice flavors. There's a minerally undertow, and some interesting herbal notes.\n",
      "Predicted:  14.213644 Actual:  16.0 \n",
      "\n",
      "A very good Merlot except for some sharpness. The wine is dry and finely tannic, with black and red cherry, mocha, dried herb and tobacco flavors.\n",
      "Predicted:  33.95843 Actual:  22.0 \n",
      "\n",
      "If you want a more earthy style of red Burgundy, this is the wine for you. It has a definite funky edge, lying against the ripe tannins and sweet soft, jammy fruit. The acidity comes through to finish a wine with weight and character.\n",
      "Predicted:  17.046572 Actual:  50.0 \n",
      "\n",
      "Initially, this is a fruit-dominated wine, with a cherries-in-syrup flavor. Only gradually do the tannins and the stalky but rich texture come in to suggest aging potential. The wine finishes with the fresh edge typical of 2007.\n",
      "Predicted:  33.00124 Actual:  61.0 \n",
      "\n",
      "In the heat of the 2008 vintage, it may have been a mistake to further dry 20% of the grapes for this wine. The result has turned out chocolaty-ripe, but also with a touch of raisining evident, and while there's volume, there's also a certain lack of midpalate richness.\n",
      "Predicted:  35.908936 Actual:  23.0 \n",
      "\n"
     ]
    }
   ],
   "source": [
    "num_predictions = 40\n",
    "diff = 0\n",
    "for i in range(num_predictions):\n",
    "  val = predictions[i]\n",
    "  print(description_test.iloc[i])\n",
    "  print('Predicted: ', val[0], 'Actual: ', labels_test.iloc[i], '\\n')\n",
    "  diff += abs(val[0] - labels_test.iloc[i])"
   ]
  },
  {
   "cell_type": "code",
   "execution_count": null,
   "metadata": {},
   "outputs": [],
   "source": []
  }
 ],
 "metadata": {
  "colab": {
   "collapsed_sections": [],
   "name": "Predicting wine prices.ipynb",
   "provenance": []
  },
  "kernelspec": {
   "display_name": "Python 3",
   "language": "python",
   "name": "python3"
  },
  "language_info": {
   "codemirror_mode": {
    "name": "ipython",
    "version": 3
   },
   "file_extension": ".py",
   "mimetype": "text/x-python",
   "name": "python",
   "nbconvert_exporter": "python",
   "pygments_lexer": "ipython3",
   "version": "3.7.6"
  }
 },
 "nbformat": 4,
 "nbformat_minor": 1
}
