{
 "cells": [
  {
   "cell_type": "code",
   "execution_count": 1,
   "metadata": {
    "colab": {},
    "colab_type": "code",
    "id": "pbR7w_sws0s5"
   },
   "outputs": [],
   "source": [
    "from __future__ import absolute_import\n",
    "from __future__ import division\n",
    "from __future__ import print_function"
   ]
  },
  {
   "cell_type": "code",
   "execution_count": 2,
   "metadata": {
    "colab": {},
    "colab_type": "code",
    "id": "6iOgAmGJs_lS"
   },
   "outputs": [],
   "source": [
    "!pip3 install -q -U tensorflow"
   ]
  },
  {
   "cell_type": "code",
   "execution_count": 4,
   "metadata": {
    "colab": {},
    "colab_type": "code",
    "id": "MopdvKpKtHui"
   },
   "outputs": [],
   "source": [
    "import itertools\n",
    "import os\n",
    "import math\n",
    "import pandas as pd\n",
    "import tensorflow as tf\n",
    "from sklearn.preprocessing import LabelEncoder\n",
    "from tensorflow import keras\n",
    "from datetime import datetime\n",
    "import numpy as np\n",
    "import datetime\n",
    "layers = keras.layers\n"
   ]
  },
  {
   "cell_type": "code",
   "execution_count": 6,
   "metadata": {},
   "outputs": [
    {
     "name": "stdout",
     "output_type": "stream",
     "text": [
      "--2021-05-07 13:19:00--  https://storage.googleapis.com/sara-cloud-ml/wine_data.csv\n",
      "Resolving storage.googleapis.com (storage.googleapis.com)... 172.217.172.16, 142.250.78.16, 142.250.78.144, ...\n",
      "Connecting to storage.googleapis.com (storage.googleapis.com)|172.217.172.16|:443... connected.\n",
      "HTTP request sent, awaiting response... 200 OK\n",
      "Length: 49783940 (47M) [application/octet-stream]\n",
      "Saving to: ‘wine_data.csv.4’\n",
      "\n",
      "wine_data.csv.4     100%[===================>]  47.48M  4.01MB/s    in 21s     \n",
      "\n",
      "2021-05-07 13:19:22 (2.27 MB/s) - ‘wine_data.csv.4’ saved [49783940/49783940]\n",
      "\n"
     ]
    }
   ],
   "source": [
    "!wget https://storage.googleapis.com/sara-cloud-ml/wine_data.csv"
   ]
  },
  {
   "cell_type": "code",
   "execution_count": 5,
   "metadata": {
    "colab": {},
    "colab_type": "code",
    "id": "3e6WKGDHt_7O"
   },
   "outputs": [],
   "source": [
    "path = \"wine_data.csv\""
   ]
  },
  {
   "cell_type": "code",
   "execution_count": 6,
   "metadata": {
    "colab": {
     "base_uri": "https://localhost:8080/",
     "height": 306
    },
    "colab_type": "code",
    "id": "Ip5LPilmuUup",
    "outputId": "054c9d54-3046-4078-ec25-9d649f62c94b"
   },
   "outputs": [
    {
     "data": {
      "text/html": [
       "<div>\n",
       "<style scoped>\n",
       "    .dataframe tbody tr th:only-of-type {\n",
       "        vertical-align: middle;\n",
       "    }\n",
       "\n",
       "    .dataframe tbody tr th {\n",
       "        vertical-align: top;\n",
       "    }\n",
       "\n",
       "    .dataframe thead th {\n",
       "        text-align: right;\n",
       "    }\n",
       "</style>\n",
       "<table border=\"1\" class=\"dataframe\">\n",
       "  <thead>\n",
       "    <tr style=\"text-align: right;\">\n",
       "      <th></th>\n",
       "      <th>Unnamed: 0</th>\n",
       "      <th>country</th>\n",
       "      <th>description</th>\n",
       "      <th>designation</th>\n",
       "      <th>points</th>\n",
       "      <th>price</th>\n",
       "      <th>province</th>\n",
       "      <th>region_1</th>\n",
       "      <th>region_2</th>\n",
       "      <th>variety</th>\n",
       "      <th>winery</th>\n",
       "    </tr>\n",
       "  </thead>\n",
       "  <tbody>\n",
       "    <tr>\n",
       "      <th>62380</th>\n",
       "      <td>62380</td>\n",
       "      <td>Italy</td>\n",
       "      <td>A vintage-dated Prosecco with a festive, bubbl...</td>\n",
       "      <td>Millesimato Selezione Banda Rossa</td>\n",
       "      <td>89</td>\n",
       "      <td>19.0</td>\n",
       "      <td>Veneto</td>\n",
       "      <td>Prosecco di Valdobbiadene</td>\n",
       "      <td>NaN</td>\n",
       "      <td>Prosecco</td>\n",
       "      <td>Bortolomiol</td>\n",
       "    </tr>\n",
       "    <tr>\n",
       "      <th>87819</th>\n",
       "      <td>87819</td>\n",
       "      <td>Italy</td>\n",
       "      <td>Made with organically grown grapes, this silky...</td>\n",
       "      <td>NaN</td>\n",
       "      <td>90</td>\n",
       "      <td>25.0</td>\n",
       "      <td>Piedmont</td>\n",
       "      <td>Langhe</td>\n",
       "      <td>NaN</td>\n",
       "      <td>Nebbiolo</td>\n",
       "      <td>Cascina Corte di Barosi Alessandro</td>\n",
       "    </tr>\n",
       "    <tr>\n",
       "      <th>64753</th>\n",
       "      <td>64753</td>\n",
       "      <td>US</td>\n",
       "      <td>A lovely bottle, loaded with textures of moist...</td>\n",
       "      <td>Estate</td>\n",
       "      <td>90</td>\n",
       "      <td>28.0</td>\n",
       "      <td>Washington</td>\n",
       "      <td>Columbia Valley (WA)</td>\n",
       "      <td>Columbia Valley</td>\n",
       "      <td>Syrah</td>\n",
       "      <td>Gamache</td>\n",
       "    </tr>\n",
       "    <tr>\n",
       "      <th>104965</th>\n",
       "      <td>104965</td>\n",
       "      <td>France</td>\n",
       "      <td>Following the fashion of bone-dry Champagnes, ...</td>\n",
       "      <td>Grande Cuvée Extra Brut</td>\n",
       "      <td>88</td>\n",
       "      <td>NaN</td>\n",
       "      <td>Champagne</td>\n",
       "      <td>Champagne</td>\n",
       "      <td>NaN</td>\n",
       "      <td>Champagne Blend</td>\n",
       "      <td>Veuve Doussot</td>\n",
       "    </tr>\n",
       "    <tr>\n",
       "      <th>3882</th>\n",
       "      <td>3882</td>\n",
       "      <td>Argentina</td>\n",
       "      <td>Strong blackberry aromas come with hints of wo...</td>\n",
       "      <td>La Mascota</td>\n",
       "      <td>89</td>\n",
       "      <td>15.0</td>\n",
       "      <td>Mendoza Province</td>\n",
       "      <td>Mendoza</td>\n",
       "      <td>NaN</td>\n",
       "      <td>Malbec</td>\n",
       "      <td>Mascota</td>\n",
       "    </tr>\n",
       "  </tbody>\n",
       "</table>\n",
       "</div>"
      ],
      "text/plain": [
       "        Unnamed: 0    country  \\\n",
       "62380        62380      Italy   \n",
       "87819        87819      Italy   \n",
       "64753        64753         US   \n",
       "104965      104965     France   \n",
       "3882          3882  Argentina   \n",
       "\n",
       "                                              description  \\\n",
       "62380   A vintage-dated Prosecco with a festive, bubbl...   \n",
       "87819   Made with organically grown grapes, this silky...   \n",
       "64753   A lovely bottle, loaded with textures of moist...   \n",
       "104965  Following the fashion of bone-dry Champagnes, ...   \n",
       "3882    Strong blackberry aromas come with hints of wo...   \n",
       "\n",
       "                              designation  points  price          province  \\\n",
       "62380   Millesimato Selezione Banda Rossa      89   19.0            Veneto   \n",
       "87819                                 NaN      90   25.0          Piedmont   \n",
       "64753                              Estate      90   28.0        Washington   \n",
       "104965            Grande Cuvée Extra Brut      88    NaN         Champagne   \n",
       "3882                           La Mascota      89   15.0  Mendoza Province   \n",
       "\n",
       "                         region_1         region_2          variety  \\\n",
       "62380   Prosecco di Valdobbiadene              NaN         Prosecco   \n",
       "87819                      Langhe              NaN         Nebbiolo   \n",
       "64753        Columbia Valley (WA)  Columbia Valley            Syrah   \n",
       "104965                  Champagne              NaN  Champagne Blend   \n",
       "3882                      Mendoza              NaN           Malbec   \n",
       "\n",
       "                                    winery  \n",
       "62380                          Bortolomiol  \n",
       "87819   Cascina Corte di Barosi Alessandro  \n",
       "64753                              Gamache  \n",
       "104965                       Veuve Doussot  \n",
       "3882                               Mascota  "
      ]
     },
     "execution_count": 6,
     "metadata": {},
     "output_type": "execute_result"
    }
   ],
   "source": [
    "data = pd.read_csv(path)\n",
    "data = data.sample(frac=1)\n",
    "data.head()"
   ]
  },
  {
   "cell_type": "code",
   "execution_count": 7,
   "metadata": {
    "colab": {},
    "colab_type": "code",
    "id": "jRCtpWRoux46"
   },
   "outputs": [],
   "source": [
    "data = data[pd.notnull(data['country'])]\n",
    "data = data[pd.notnull(data['price'])]\n",
    "data = data.drop(data.columns[0], axis=1)\n",
    "variety_threshold = 500\n",
    "value_counts = data['variety'].value_counts()\n",
    "to_remove = value_counts[value_counts <= variety_threshold].index\n",
    "data.replace(to_remove , np.nan, inplace=True)\n",
    "data = data[pd.notnull(data['variety'])]"
   ]
  },
  {
   "cell_type": "code",
   "execution_count": 8,
   "metadata": {
    "colab": {
     "base_uri": "https://localhost:8080/",
     "height": 53
    },
    "colab_type": "code",
    "id": "vLiRIuhkvcfw",
    "outputId": "5ad32d1e-6638-45ae-8c73-dee9214b73af"
   },
   "outputs": [
    {
     "name": "stdout",
     "output_type": "stream",
     "text": [
      "Train size: 95646\n",
      "Test size: 23912\n"
     ]
    }
   ],
   "source": [
    "train_size= int(len(data) * .8)\n",
    "print(\"Train size: %d\" % train_size)\n",
    "print(\"Test size: %d\" % (len(data) - train_size))"
   ]
  },
  {
   "cell_type": "code",
   "execution_count": 9,
   "metadata": {
    "colab": {},
    "colab_type": "code",
    "id": "MeO0NDN3wnun"
   },
   "outputs": [],
   "source": [
    "# Train inputs\n",
    "description_train = data['description'][:train_size]\n",
    "variety_train = data['variety'][:train_size]\n",
    "\n",
    "# Train labels\n",
    "labels_train = data['price'][:train_size]\n",
    "\n",
    "# Test inputs\n",
    "description_test = data['description'][train_size:]\n",
    "variety_test = data['variety'][train_size:]\n",
    "\n",
    "# Test labels\n",
    "labels_test = data['price'][train_size:]"
   ]
  },
  {
   "cell_type": "code",
   "execution_count": 10,
   "metadata": {
    "colab": {},
    "colab_type": "code",
    "id": "_OGtIsjpxXuR"
   },
   "outputs": [],
   "source": [
    "# Create a tokenizer\n",
    "vocab_size = 5000\n",
    "tokenize = keras.preprocessing.text.Tokenizer(num_words=vocab_size, char_level=False)\n",
    "tokenize.fit_on_texts(description_train)"
   ]
  },
  {
   "cell_type": "code",
   "execution_count": 11,
   "metadata": {
    "colab": {},
    "colab_type": "code",
    "id": "xRKZ-N0dyxr-"
   },
   "outputs": [],
   "source": [
    "description_bow_train = tokenize.texts_to_matrix(description_train)\n",
    "description_bow_test = tokenize.texts_to_matrix(description_test)"
   ]
  },
  {
   "cell_type": "code",
   "execution_count": 12,
   "metadata": {
    "colab": {},
    "colab_type": "code",
    "id": "X4yP86yP2w8s"
   },
   "outputs": [],
   "source": [
    "encoder = LabelEncoder()\n",
    "encoder.fit(variety_train)\n",
    "variety_train = encoder.transform(variety_train)\n",
    "variety_test = encoder.transform(variety_test)\n",
    "num_classes = np.max(variety_train) + 1\n",
    "\n",
    "#To one-hot\n",
    "variety_train = keras.utils.to_categorical(variety_train, num_classes)\n",
    "variety_test = keras.utils.to_categorical(variety_test, num_classes)"
   ]
  },
  {
   "cell_type": "code",
   "execution_count": 13,
   "metadata": {
    "colab": {},
    "colab_type": "code",
    "id": "sT2EgtKD3hGN"
   },
   "outputs": [],
   "source": [
    "bow_inputs = layers.Input(shape=(vocab_size,))\n",
    "variety_inputs = layers.Input(shape=(num_classes,))\n",
    "merged_layer= layers.concatenate([bow_inputs, variety_inputs])\n",
    "merget_layer = layers.Dense(256, activation=\"relu\")(merged_layer)\n",
    "predictions = layers.Dense(1)(merged_layer)\n",
    "wide_model = keras.Model(inputs=[bow_inputs, variety_inputs], outputs=predictions)"
   ]
  },
  {
   "cell_type": "code",
   "execution_count": 14,
   "metadata": {
    "colab": {
     "base_uri": "https://localhost:8080/",
     "height": 341
    },
    "colab_type": "code",
    "id": "Cp1__pPv4xvN",
    "outputId": "4a02233a-37f5-464b-d10f-358079e38d55"
   },
   "outputs": [
    {
     "name": "stdout",
     "output_type": "stream",
     "text": [
      "Model: \"model\"\n",
      "__________________________________________________________________________________________________\n",
      "Layer (type)                    Output Shape         Param #     Connected to                     \n",
      "==================================================================================================\n",
      "input_1 (InputLayer)            [(None, 5000)]       0                                            \n",
      "__________________________________________________________________________________________________\n",
      "input_2 (InputLayer)            [(None, 40)]         0                                            \n",
      "__________________________________________________________________________________________________\n",
      "concatenate (Concatenate)       (None, 5040)         0           input_1[0][0]                    \n",
      "                                                                 input_2[0][0]                    \n",
      "__________________________________________________________________________________________________\n",
      "dense_1 (Dense)                 (None, 1)            5041        concatenate[0][0]                \n",
      "==================================================================================================\n",
      "Total params: 5,041\n",
      "Trainable params: 5,041\n",
      "Non-trainable params: 0\n",
      "__________________________________________________________________________________________________\n",
      "None\n"
     ]
    }
   ],
   "source": [
    "wide_model.compile(loss=\"mse\", optimizer='adam', metrics=['accuracy'])\n",
    "print(wide_model.summary())"
   ]
  },
  {
   "cell_type": "code",
   "execution_count": 15,
   "metadata": {
    "colab": {},
    "colab_type": "code",
    "id": "2N-hzkWQ7Vvk"
   },
   "outputs": [],
   "source": [
    "train_embed = tokenize.texts_to_sequences(description_train)\n",
    "test_embed = tokenize.texts_to_sequences(description_test)\n",
    "\n",
    "max_seq_length = 170\n",
    "train_embed = keras.preprocessing.sequence.pad_sequences(train_embed, maxlen=max_seq_length, padding = \"post\")\n",
    "test_embed = keras.preprocessing.sequence.pad_sequences(test_embed, maxlen=max_seq_length, padding = \"post\")"
   ]
  },
  {
   "cell_type": "code",
   "execution_count": 16,
   "metadata": {
    "colab": {
     "base_uri": "https://localhost:8080/",
     "height": 323
    },
    "colab_type": "code",
    "id": "xjNoB5mU8DZf",
    "outputId": "6c19ce5b-6afe-4e5f-dae5-6ffb587bc168"
   },
   "outputs": [
    {
     "name": "stdout",
     "output_type": "stream",
     "text": [
      "Model: \"model_1\"\n",
      "_________________________________________________________________\n",
      "Layer (type)                 Output Shape              Param #   \n",
      "=================================================================\n",
      "input_3 (InputLayer)         [(None, 170)]             0         \n",
      "_________________________________________________________________\n",
      "embedding (Embedding)        (None, 170, 8)            40000     \n",
      "_________________________________________________________________\n",
      "flatten (Flatten)            (None, 1360)              0         \n",
      "_________________________________________________________________\n",
      "dense_2 (Dense)              (None, 1)                 1361      \n",
      "=================================================================\n",
      "Total params: 41,361\n",
      "Trainable params: 41,361\n",
      "Non-trainable params: 0\n",
      "_________________________________________________________________\n",
      "None\n"
     ]
    }
   ],
   "source": [
    "deep_inputs = layers.Input(shape=(max_seq_length,))\n",
    "embedding = layers.Embedding(vocab_size, 8, input_length=max_seq_length)(deep_inputs)\n",
    "embedding = layers.Flatten()(embedding)\n",
    "embed_out = layers.Dense(1)(embedding)\n",
    "deep_model = keras.Model(inputs=deep_inputs, outputs=embed_out)\n",
    "print(deep_model.summary())\n"
   ]
  },
  {
   "cell_type": "code",
   "execution_count": 17,
   "metadata": {
    "colab": {},
    "colab_type": "code",
    "id": "diNIUb_D-xz6"
   },
   "outputs": [],
   "source": [
    "deep_model.compile(loss='mse', optimizer='adam', metrics=['accuracy'])"
   ]
  },
  {
   "cell_type": "code",
   "execution_count": 18,
   "metadata": {
    "colab": {
     "base_uri": "https://localhost:8080/",
     "height": 575
    },
    "colab_type": "code",
    "id": "_sKiBBPLVvqB",
    "outputId": "86f11c2f-3aa5-4144-ea68-e5174ba6d485"
   },
   "outputs": [
    {
     "name": "stdout",
     "output_type": "stream",
     "text": [
      "Model: \"model_2\"\n",
      "__________________________________________________________________________________________________\n",
      "Layer (type)                    Output Shape         Param #     Connected to                     \n",
      "==================================================================================================\n",
      "input_3 (InputLayer)            [(None, 170)]        0                                            \n",
      "__________________________________________________________________________________________________\n",
      "input_1 (InputLayer)            [(None, 5000)]       0                                            \n",
      "__________________________________________________________________________________________________\n",
      "input_2 (InputLayer)            [(None, 40)]         0                                            \n",
      "__________________________________________________________________________________________________\n",
      "embedding (Embedding)           (None, 170, 8)       40000       input_3[0][0]                    \n",
      "__________________________________________________________________________________________________\n",
      "concatenate (Concatenate)       (None, 5040)         0           input_1[0][0]                    \n",
      "                                                                 input_2[0][0]                    \n",
      "__________________________________________________________________________________________________\n",
      "flatten (Flatten)               (None, 1360)         0           embedding[0][0]                  \n",
      "__________________________________________________________________________________________________\n",
      "dense_1 (Dense)                 (None, 1)            5041        concatenate[0][0]                \n",
      "__________________________________________________________________________________________________\n",
      "dense_2 (Dense)                 (None, 1)            1361        flatten[0][0]                    \n",
      "__________________________________________________________________________________________________\n",
      "concatenate_1 (Concatenate)     (None, 2)            0           dense_1[0][0]                    \n",
      "                                                                 dense_2[0][0]                    \n",
      "__________________________________________________________________________________________________\n",
      "dense_3 (Dense)                 (None, 1)            3           concatenate_1[0][0]              \n",
      "==================================================================================================\n",
      "Total params: 46,405\n",
      "Trainable params: 46,405\n",
      "Non-trainable params: 0\n",
      "__________________________________________________________________________________________________\n",
      "None\n"
     ]
    }
   ],
   "source": [
    "merged_out = layers.concatenate([wide_model.output, deep_model.output])\n",
    "merged_out = layers.Dense(1)(merged_out)\n",
    "combined_model = keras.Model(wide_model.input + [deep_model.input], merged_out)\n",
    "print(combined_model.summary())"
   ]
  },
  {
   "cell_type": "code",
   "execution_count": 19,
   "metadata": {
    "colab": {},
    "colab_type": "code",
    "id": "n9OpUBPfWLJP"
   },
   "outputs": [],
   "source": [
    "combined_model.compile(loss='mse', optimizer='adam', metrics=['accuracy'])"
   ]
  },
  {
   "cell_type": "code",
   "execution_count": 20,
   "metadata": {
    "pycharm": {
     "name": "#%%\n"
    }
   },
   "outputs": [],
   "source": [
    "logdir = os.path.join(\"logs\", datetime.datetime.now().strftime(\"%Y%m%d-%H%M%S\"))\n",
    "tensorboard_callback = tf.keras.callbacks.TensorBoard(logdir, histogram_freq=1)"
   ]
  },
  {
   "cell_type": "code",
   "execution_count": 21,
   "metadata": {
    "colab": {},
    "colab_type": "code",
    "id": "110H9nvDWacG"
   },
   "outputs": [
    {
     "name": "stdout",
     "output_type": "stream",
     "text": [
      "Epoch 1/50\n",
      "748/748 [==============================] - 2s 2ms/step - loss: 1472.4561 - accuracy: 0.0000e+00\n",
      "Epoch 2/50\n",
      "748/748 [==============================] - 1s 2ms/step - loss: 1144.3322 - accuracy: 0.0000e+00\n",
      "Epoch 3/50\n",
      "748/748 [==============================] - 1s 2ms/step - loss: 1075.2429 - accuracy: 0.0000e+00\n",
      "Epoch 4/50\n",
      "748/748 [==============================] - 1s 2ms/step - loss: 1036.8831 - accuracy: 0.0000e+00\n",
      "Epoch 5/50\n",
      "748/748 [==============================] - 1s 2ms/step - loss: 1009.4757 - accuracy: 0.0000e+00\n",
      "Epoch 6/50\n",
      "748/748 [==============================] - 1s 2ms/step - loss: 989.0131 - accuracy: 0.0000e+00\n",
      "Epoch 7/50\n",
      "748/748 [==============================] - 1s 2ms/step - loss: 972.8010 - accuracy: 0.0000e+00\n",
      "Epoch 8/50\n",
      "748/748 [==============================] - 1s 2ms/step - loss: 958.7110 - accuracy: 0.0000e+00\n",
      "Epoch 9/50\n",
      "748/748 [==============================] - 1s 2ms/step - loss: 946.8928 - accuracy: 0.0000e+00\n",
      "Epoch 10/50\n",
      "748/748 [==============================] - 1s 2ms/step - loss: 936.1628 - accuracy: 0.0000e+00\n",
      "Epoch 11/50\n",
      "748/748 [==============================] - 1s 2ms/step - loss: 926.4954 - accuracy: 0.0000e+00\n",
      "Epoch 12/50\n",
      "748/748 [==============================] - 1s 2ms/step - loss: 917.4558 - accuracy: 0.0000e+00\n",
      "Epoch 13/50\n",
      "748/748 [==============================] - 1s 2ms/step - loss: 908.5704 - accuracy: 0.0000e+00\n",
      "Epoch 14/50\n",
      "748/748 [==============================] - 2s 2ms/step - loss: 899.3986 - accuracy: 0.0000e+00\n",
      "Epoch 15/50\n",
      "748/748 [==============================] - 1s 2ms/step - loss: 890.3688 - accuracy: 0.0000e+00\n",
      "Epoch 16/50\n",
      "748/748 [==============================] - 2s 2ms/step - loss: 880.5156 - accuracy: 0.0000e+00\n",
      "Epoch 17/50\n",
      "748/748 [==============================] - 1s 2ms/step - loss: 869.7220 - accuracy: 0.0000e+00\n",
      "Epoch 18/50\n",
      "748/748 [==============================] - 1s 2ms/step - loss: 857.9066 - accuracy: 0.0000e+00\n",
      "Epoch 19/50\n",
      "748/748 [==============================] - 1s 2ms/step - loss: 844.8151 - accuracy: 0.0000e+00\n",
      "Epoch 20/50\n",
      "748/748 [==============================] - 1s 2ms/step - loss: 829.8082 - accuracy: 0.0000e+00\n",
      "Epoch 21/50\n",
      "748/748 [==============================] - 2s 2ms/step - loss: 813.1276 - accuracy: 0.0000e+00\n",
      "Epoch 22/50\n",
      "748/748 [==============================] - 1s 2ms/step - loss: 795.5440 - accuracy: 0.0000e+00\n",
      "Epoch 23/50\n",
      "748/748 [==============================] - 2s 2ms/step - loss: 776.0423 - accuracy: 0.0000e+00\n",
      "Epoch 24/50\n",
      "748/748 [==============================] - 2s 2ms/step - loss: 756.2407 - accuracy: 0.0000e+00\n",
      "Epoch 25/50\n",
      "748/748 [==============================] - 1s 2ms/step - loss: 736.3196 - accuracy: 0.0000e+00\n",
      "Epoch 26/50\n",
      "748/748 [==============================] - 2s 2ms/step - loss: 716.0584 - accuracy: 0.0000e+00\n",
      "Epoch 27/50\n",
      "748/748 [==============================] - 2s 2ms/step - loss: 696.7546 - accuracy: 0.0000e+00\n",
      "Epoch 28/50\n",
      "748/748 [==============================] - 1s 2ms/step - loss: 677.5998 - accuracy: 0.0000e+00: 0s - loss: 677.5998 - accuracy: 0.0000e+\n",
      "Epoch 29/50\n",
      "748/748 [==============================] - 1s 2ms/step - loss: 659.9636 - accuracy: 0.0000e+00\n",
      "Epoch 30/50\n",
      "748/748 [==============================] - 1s 2ms/step - loss: 642.2510 - accuracy: 0.0000e+00\n",
      "Epoch 31/50\n",
      "748/748 [==============================] - 1s 2ms/step - loss: 626.7641 - accuracy: 0.0000e+00: 0s - loss: 660.0974 \n",
      "Epoch 32/50\n",
      "748/748 [==============================] - 1s 2ms/step - loss: 611.9232 - accuracy: 0.0000e+00\n",
      "Epoch 33/50\n",
      "748/748 [==============================] - 1s 2ms/step - loss: 597.8317 - accuracy: 0.0000e+00\n",
      "Epoch 34/50\n",
      "748/748 [==============================] - 1s 2ms/step - loss: 584.7667 - accuracy: 0.0000e+00\n",
      "Epoch 35/50\n",
      "748/748 [==============================] - 1s 2ms/step - loss: 572.3629 - accuracy: 0.0000e+00\n",
      "Epoch 36/50\n",
      "748/748 [==============================] - 1s 2ms/step - loss: 560.8869 - accuracy: 0.0000e+00\n",
      "Epoch 37/50\n",
      "748/748 [==============================] - 1s 2ms/step - loss: 550.0022 - accuracy: 0.0000e+00\n",
      "Epoch 38/50\n",
      "748/748 [==============================] - 1s 2ms/step - loss: 540.0115 - accuracy: 0.0000e+00\n",
      "Epoch 39/50\n",
      "748/748 [==============================] - 1s 2ms/step - loss: 530.2036 - accuracy: 0.0000e+00\n",
      "Epoch 40/50\n",
      "748/748 [==============================] - 1s 2ms/step - loss: 521.2360 - accuracy: 0.0000e+00\n",
      "Epoch 41/50\n",
      "748/748 [==============================] - 1s 2ms/step - loss: 512.4214 - accuracy: 0.0000e+00\n",
      "Epoch 42/50\n",
      "748/748 [==============================] - 1s 2ms/step - loss: 504.2254 - accuracy: 0.0000e+00\n",
      "Epoch 43/50\n",
      "748/748 [==============================] - 1s 2ms/step - loss: 496.9127 - accuracy: 0.0000e+00\n",
      "Epoch 44/50\n",
      "748/748 [==============================] - 1s 2ms/step - loss: 489.3190 - accuracy: 0.0000e+00\n",
      "Epoch 45/50\n",
      "748/748 [==============================] - 1s 2ms/step - loss: 482.1501 - accuracy: 0.0000e+00\n",
      "Epoch 46/50\n",
      "748/748 [==============================] - 1s 2ms/step - loss: 476.0568 - accuracy: 0.0000e+00\n",
      "Epoch 47/50\n",
      "748/748 [==============================] - 1s 2ms/step - loss: 469.2993 - accuracy: 0.0000e+00\n",
      "Epoch 48/50\n",
      "748/748 [==============================] - 1s 2ms/step - loss: 463.6577 - accuracy: 0.0000e+00\n",
      "Epoch 49/50\n",
      "748/748 [==============================] - 1s 2ms/step - loss: 458.0212 - accuracy: 0.0000e+00\n",
      "Epoch 50/50\n",
      "748/748 [==============================] - 1s 2ms/step - loss: 452.5051 - accuracy: 0.0000e+00\n",
      "187/187 [==============================] - 1s 2ms/step - loss: 1035.8036 - accuracy: 0.0000e+00\n"
     ]
    },
    {
     "data": {
      "text/plain": [
       "[1035.8035888671875, 0.0]"
      ]
     },
     "execution_count": 21,
     "metadata": {},
     "output_type": "execute_result"
    }
   ],
   "source": [
    "combined_model.fit([description_bow_train,\n",
    "                    variety_train] + [ train_embed ],\n",
    "                   labels_train,\n",
    "                   epochs=50,\n",
    "                   batch_size=128,\n",
    "                   callbacks=[tensorboard_callback])\n",
    "combined_model.evaluate([description_bow_test, variety_test] + [ test_embed ], labels_test, batch_size=128)"
   ]
  },
  {
   "cell_type": "code",
   "execution_count": 22,
   "metadata": {
    "colab": {},
    "colab_type": "code",
    "id": "uSOtW31NW1JH"
   },
   "outputs": [],
   "source": [
    "predictions = combined_model.predict([ description_bow_test, variety_test] + [ test_embed])"
   ]
  },
  {
   "cell_type": "code",
   "execution_count": 23,
   "metadata": {
    "colab": {},
    "colab_type": "code",
    "id": "sEAan1o5W-g8"
   },
   "outputs": [
    {
     "name": "stdout",
     "output_type": "stream",
     "text": [
      "This vintage shows the heat, with big, ripe cherry intensity, power and beefy aromas of barbecue, red beets, resin, tar and toasted chestnut. The wine boasts deep concentration, almost viscous consistency and a sweet finish.\n",
      "Predicted:  60.3638 Actual:  65.0 \n",
      "\n",
      "The best Cara Mia yet, this is Red Mountain Cabernet Franc from the estate vineyard, with 15% Merlot and 8% Petit Verdot included. Stylish and compact, this seems sculpted with pure, vivid purple fruits, balanced against crisp, fine-grained tannins. The depth and concentration are noteworthy.\n",
      "Predicted:  83.43269 Actual:  60.0 \n",
      "\n",
      "With firm tannins and a solid texture, this rich wine has delicious juicy black fruits and dry tannins. It's delicious now, but it will also improve and evolve with time. Drink from 2016.\n",
      "Predicted:  41.74598 Actual:  15.0 \n",
      "\n",
      "Densely tannic and rich, this is full of ripe chocolate and blackberry fruit. It is dark, brooding and dense—a great success for the second wine of Château du Glana.\n",
      "Predicted:  14.902505 Actual:  64.0 \n",
      "\n",
      "The Quarts de Chaume, the four fingers of land that rise above the Layon Valley, are one of the pinnacles of sweet wines in the Loire. Showing botrytis and layers of dryness over the honey and peach jelly flavors, but also has great freshness. The aftertaste just lasts.\n",
      "Predicted:  100.13983 Actual:  152.0 \n",
      "\n",
      "It's difficult to find the aromas of stone fruit and herbs in the glass. The flavors show a lot of lightness and elegance but also a sense of balance.\n",
      "Predicted:  10.933194 Actual:  16.0 \n",
      "\n",
      "The nose is overwhelmed by oak sensations of roasted coffee bean, espresso and toast. The marked wood influence carries over to the palate, which displays oak extract, coconut, coffee, chocolate, vanilla and plum accents alongside drying wood tannins and racy acidity. There's no fruit richness to stand up to the dominant oak.\n",
      "Predicted:  70.603065 Actual:  45.0 \n",
      "\n",
      "Here's a perfectly correct and clean Pinot Grigio from Tuscany that shows evidence of a deft and technologically savvy team of winemakers. The wine boasts well-dosed perfumes of wild flowers, citrus and stone fruit with a crisp finish that would pair well with all informal foods and salads.\n",
      "Predicted:  -2.270125 Actual:  18.0 \n",
      "\n",
      "A heavy cloak of oak can't hide the high alcohol level (15%). Sure, the alcohol provides weight and texture, but also heat on the finish. The black cherry and black pepper flavors need some time to smooth the rough edges, but then the alcohol will likely become more prominent. Drink young for its rustic ebullience, with rare beef to help tame the tannins.\n",
      "Predicted:  21.441887 Actual:  35.0 \n",
      "\n",
      "Not much aroma out of this wine at first. From one of Livermore's better vineyards, Ghielmetti, this Malbec has a tannic backbone, is quite dry, very ripe and with the requisite blue and blackberry and hint of clove. Not as layered as it could be.\n",
      "Predicted:  72.85219 Actual:  27.0 \n",
      "\n",
      "Intense and structured, L'Ecole's Walla Walla Cab exhibits welcome complexity as well. The textbook aromas and flavors of cassis, tobacco and cedar are paired with enough tannin and acidity to support five years or more of aging`.\n",
      "Predicted:  49.069775 Actual:  33.0 \n",
      "\n",
      "Spicy on the nose, this has a strong blast of olive and herb. The body on this wine is full and well balanced, while the flavors veer toward herbal, spicy black fruit, pepper and cardamom. The finish is short and spicy, with a severe baked and roasted character.\n",
      "Predicted:  17.699585 Actual:  17.0 \n",
      "\n",
      "This is a light wine with tropical fruit flavors. The acidity and notes of almond and white fruit add to its rounded, ready-to-drink feel.\n",
      "Predicted:  30.218725 Actual:  16.0 \n",
      "\n",
      "One of the first things you notice here is the sweetness and fullness of the fruit. Generous aromas of vanilla and milk chocolate fill in the background and further enhance the obvious richness and concentration of this Riserva. In the mouth, this wine is rich, supple and smooth.\n",
      "Predicted:  59.74222 Actual:  40.0 \n",
      "\n",
      "This is a really good example of a blended wine from Aragón. It's 50% Garnacha with 25% each Tempranillo and Cabernet Sauvignon, and thus it is more complex and interesting than your run-of-the-mill varietal Grenache. Mellow aromas of ripe fruit and spice open things up, followed by balanced flavors of berry fruits, vanilla and cream. Easygoing and highly recommended for the price.\n",
      "Predicted:  -22.979784 Actual:  16.0 \n",
      "\n",
      "Enormous tannins make this mountain wine astringent and hard, and emphasize the dryness. The end result is a Cab that's not very satisfying right now. But the black currant and cedar flavors are deep and pleasant. It's something of a gamble, but try cellaring until after 2011.\n",
      "Predicted:  69.50768 Actual:  65.0 \n",
      "\n",
      "Shows that typical enormous Santa Lucia fruit that's so massive that it just stuns. Offers gobs of cherry marmalade, blueberry pie filling, pomegranate and cola-root beer flavors, yet the wine somehow stays silky-elegant. Who knows where it's going, but it's delicious now.\n",
      "Predicted:  99.01754 Actual:  43.0 \n",
      "\n",
      "Wonderful flavors of dark fruits, minerals and licorice comprise this brawny red. There's also a nice toasty element, like roasted nuts, which is probably a result of new oak aging that brings added complexity. The alcohol is in balance. This fine wine will be best enjoyed in 2003 and beyond.\n",
      "Predicted:  53.51982 Actual:  51.0 \n",
      "\n",
      "An elegant, poised wine that's bone dry, nervy and lightly fruity. The wine is balanced between its fresh acidity and ripe fruitiness. With its bright texture, it's a wine that needs food. Drink from 2016.\n",
      "Predicted:  41.32331 Actual:  25.0 \n",
      "\n",
      "This is an oak-free wine. It's bone dry and very crisp in acidity, which cleanses the palate and prepares it for food. The flavors are of citrus fruits and gooseberries. There's a strong hint of that feline taste that turns some people off.\n",
      "Predicted:  19.80199 Actual:  23.0 \n",
      "\n",
      "Intense green plum, topped with pineapple sweetness and acidity, give this wine fine density of flavor. The fruit dominates, the wood a hint in the background, just offering some extra spice. There is a lively, juicy green and white fruit freshness to the finish.\n",
      "Predicted:  44.255283 Actual:  71.0 \n",
      "\n",
      "This is a big, rich wine, but with the fresh acidity that seems to be a hallmark of the 2004 whites. There are flavors of lime and grapefruit, and a layer of tannin to give this delicious wine good structure.\n",
      "Predicted:  42.29654 Actual:  13.0 \n",
      "\n",
      "Chewy and rich, this has opulent tones of ripe fruit, chocolate fudge, Indian spice, maple syrup and dark honey, with a pungent point of dried apple or lemon zest in the background. The finish is extracted and dense, showing a playful touch of sweetness.\n",
      "Predicted:  52.3237 Actual:  33.0 \n",
      "\n",
      "This honeyed spicy Spätlese seems straightforward in fruit, but its racy, nerve-tingling energy is electrifying. Fresh apple and pears are revitalized by streaks of lemon, lime and grapefruit that linger through a moderately long finish.\n",
      "Predicted:  7.3520427 Actual:  19.0 \n",
      "\n",
      "This elegant vineyard-designate Barolo opens with deep and penetrating aromas of cured meat, candied fruit, hazelnut, licorice and pressed blue flower. It shows intensity and alcoholic power, with silky, but firm tannins on the finish.\n",
      "Predicted:  92.00481 Actual:  83.0 \n",
      "\n",
      "Flowery and textural, this is both concentrated and airy at the same time. It floats across the palate gracefully, the pretty fruit flavors of spiced pear and hints of honeydew are set up nicely by crisp, leesy acids. Good length and a fine, clean finish.\n",
      "Predicted:  60.571342 Actual:  18.0 \n",
      "\n",
      "Tastes young and strong in primary fruit flavors—cherries, raspberries and spicy cola, accented with the caramel and vanilla of toasted oak. Impeccably balanced in tannins and acids, this wine should develop bottle interest over the next 3–5 years.\n",
      "Predicted:  57.425278 Actual:  55.0 \n",
      "\n",
      "Few wineries in California can craft a Chard as rich, balanced and ageworthy as this. In its youth this ‘05 is flashy in lemondrop, pear and spicy anise, with a honeyed finish and crisp acidity. It's quite addictively brilliant, a wine whose lush harmony mesmerizes the palate. But Hanzell Chards invariably age well, and this is a wine you can dependably put into your cellar for 5, 10, 15 years, even longer, as it continues to evolve and become more limpid and minerally.\n",
      "Predicted:  62.76453 Actual:  65.0 \n",
      "\n",
      "This vintage of Rubesco Riserva exhibits beautiful elegance and linearity (compared to the hotter 2003) with bright aromas of black fruit, cherry, moist earth and spice. The wine is firm and compact with lingering clove and pepper on the close.\n",
      "Predicted:  61.750587 Actual:  55.0 \n",
      "\n",
      "A somewhat candied nose leads, and on the palate, a clumsy sweetness creates a flabbiness over simple fruit that seems unnecessary. Lacks poise but will pair well with cheeses and seafood.\n",
      "Predicted:  36.16991 Actual:  15.0 \n",
      "\n",
      "The aromas bring a noticeable funk along with the fruit, which seems to be muted by the leathery components. For some tasters this is character, for others it suggests a bit of brett. Soft flavors of red berry and cherry continue into a lightly chocolatey finish.\n",
      "Predicted:  23.085197 Actual:  30.0 \n",
      "\n",
      "This wine is fresh, with hints of ripe fruit and aromas of tobacco. It has some darkness, good black fruits and dark tannins, along with some good smoky wood.\n",
      "Predicted:  34.860226 Actual:  35.0 \n",
      "\n",
      "Spicy and savory smelling, with interesting aromas that encompass maple, chili powder, smoked meat and mildly baked berries. The palate is round and a little rough in the tannic category. But overall this wine is exceedingly pleasant, well made and pretty much ready to drink now.\n",
      "Predicted:  47.363674 Actual:  65.0 \n",
      "\n",
      "With a dollop of Carignane, also from old vines grown organically in Mendocino County, Carol Shelton's Wild Thing ZIn is a fun ride, rich, robust in juicy raspberry fruit, fragrant in vanilla, balanced and approachable. In screwcap, it's a good bottle to grab on the way to a picnic or barbecue.\n",
      "Predicted:  -12.959913 Actual:  19.0 \n",
      "\n",
      "This bottling is still a bit disjointed, the acids stick out and the fruit seems confined to a tight corner. The raw materials are good enough—berries and watermelon, a whiff of tomato, moderate tannins and more than a hint of new oak. Give this one another year or two to smooth out the wrinkles.\n",
      "Predicted:  13.046444 Actual:  60.0 \n",
      "\n",
      "There's a streak of green mint that cuts through the cherry and cola flavors, leaving behind a sharp hit of acid. Doesn't seem likely to develop with age, but good for its dry silkiness.\n",
      "Predicted:  26.491127 Actual:  47.0 \n",
      "\n",
      "The 2004 Solaia is dense and concentrated with loads of character and defining aromatics: plump blackberry, chocolate fudge, exotic spice, peppercorn and smooth balsam notes. The real pleasure comes in the mouth where it delivers smooth elegance and an extra long finish.\n",
      "Predicted:  90.82665 Actual:  170.0 \n",
      "\n",
      "García Figuero had a great year in 2010, as did many high-end Ribera del Duero wineries. This reserva is heady up front, with malty aromas of vanilla, barrel resin, tobacco, blackberry and cassis. This is huge but holds onto its balance, while flavors of baked black fruits come with vanilla, coffee, mocha and chocolate accents. This modern marvel finishes with vanilla, pepper and chocolate flavors on top of lasting black currant and blackberry. Drink through 2025.\n",
      "Predicted:  132.86848 Actual:  66.0 \n",
      "\n",
      "Lush, soft and delicious, this has flavors of chocolate, ripe crushed summer blackberries and a hint of dried currants. This richness is augmented by lots of smoky, sweet oak. It could develop in the bottle, but the fruit might fall out before the tannins soften.\n",
      "Predicted:  20.782648 Actual:  125.0 \n",
      "\n",
      "Rich cassis aromas are tinged with a ribbon of green. The berry and plum fruit flavors are flat, rather than ripe and textured. Fine for casual gatherings. A blend of Cab, Merlot, Shiraz and Cab Franc. Imported by Southcorp Wines.\n",
      "Predicted:  36.675224 Actual:  12.0 \n",
      "\n"
     ]
    }
   ],
   "source": [
    "num_predictions = 40\n",
    "diff = 0\n",
    "for i in range(num_predictions):\n",
    "  val = predictions[i]\n",
    "  print(description_test.iloc[i])\n",
    "  print('Predicted: ', val[0], 'Actual: ', labels_test.iloc[i], '\\n')\n",
    "  diff += abs(val[0] - labels_test.iloc[i])"
   ]
  },
  {
   "cell_type": "code",
   "execution_count": 25,
   "metadata": {},
   "outputs": [
    {
     "data": {
      "text/html": [
       "\n",
       "      <iframe id=\"tensorboard-frame-441408019f7f1924\" width=\"100%\" height=\"800\" frameborder=\"0\">\n",
       "      </iframe>\n",
       "      <script>\n",
       "        (function() {\n",
       "          const frame = document.getElementById(\"tensorboard-frame-441408019f7f1924\");\n",
       "          const url = new URL(\"/\", window.location);\n",
       "          const port = 6006;\n",
       "          if (port) {\n",
       "            url.port = port;\n",
       "          }\n",
       "          frame.src = url;\n",
       "        })();\n",
       "      </script>\n",
       "    "
      ],
      "text/plain": [
       "<IPython.core.display.HTML object>"
      ]
     },
     "metadata": {},
     "output_type": "display_data"
    }
   ],
   "source": [
    "%load_ext tensorboard\n",
    "%tensorboard --logdir logs"
   ]
  }
 ],
 "metadata": {
  "colab": {
   "collapsed_sections": [],
   "name": "Predicting wine prices.ipynb",
   "provenance": []
  },
  "kernelspec": {
   "display_name": "Python 3",
   "language": "python",
   "name": "python3"
  },
  "language_info": {
   "codemirror_mode": {
    "name": "ipython",
    "version": 3
   },
   "file_extension": ".py",
   "mimetype": "text/x-python",
   "name": "python",
   "nbconvert_exporter": "python",
   "pygments_lexer": "ipython3",
   "version": "3.9.4"
  }
 },
 "nbformat": 4,
 "nbformat_minor": 1
}